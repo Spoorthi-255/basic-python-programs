{
 "cells": [
  {
   "cell_type": "code",
   "execution_count": 1,
   "id": "3120f9e1-9df2-4c4c-b849-d22d3cc5ce53",
   "metadata": {},
   "outputs": [
    {
     "name": "stdout",
     "output_type": "stream",
     "text": [
      "spoorthi\n"
     ]
    }
   ],
   "source": [
    "print('spoorthi')"
   ]
  },
  {
   "cell_type": "code",
   "execution_count": 2,
   "id": "38fd9726-32a6-4b95-9a4b-f7afcd1c6376",
   "metadata": {},
   "outputs": [
    {
     "name": "stdin",
     "output_type": "stream",
     "text": [
      "enter the name spoorthi\n"
     ]
    },
    {
     "name": "stdout",
     "output_type": "stream",
     "text": [
      "your name: spoorthi\n"
     ]
    }
   ],
   "source": [
    "name = input(\"enter the name\")\n",
    "print(\"your name:\",name)"
   ]
  },
  {
   "cell_type": "code",
   "execution_count": 3,
   "id": "15b2bbac-26e0-4e46-ae9f-b2b675e93770",
   "metadata": {},
   "outputs": [
    {
     "name": "stdin",
     "output_type": "stream",
     "text": [
      "Enter the first number: 3\n",
      "Enter the second number: 6\n"
     ]
    },
    {
     "name": "stdout",
     "output_type": "stream",
     "text": [
      "first number: 3\n",
      "second number: 6\n"
     ]
    }
   ],
   "source": [
    "num1=int(input(\"Enter the first number:\"))\n",
    "num2=int(input(\"Enter the second number:\"))\n",
    "print(\"first number:\",num1)\n",
    "print(\"second number:\",num2)\n",
    "\n"
   ]
  },
  {
   "cell_type": "code",
   "execution_count": 4,
   "id": "58352795-b31f-4a2a-8910-e4fb213b3fbc",
   "metadata": {},
   "outputs": [
    {
     "name": "stdin",
     "output_type": "stream",
     "text": [
      "Enter the first number: 14\n",
      "Enter the second number: 9\n"
     ]
    },
    {
     "name": "stdout",
     "output_type": "stream",
     "text": [
      "sum of 2 numbers: 23\n"
     ]
    }
   ],
   "source": [
    "num1=int(input(\"Enter the first number:\"))\n",
    "num2=int(input(\"Enter the second number:\"))\n",
    "sum = num1+num2\n",
    "print(\"sum of 2 numbers:\",sum)"
   ]
  },
  {
   "cell_type": "code",
   "execution_count": 5,
   "id": "6c094bcb-7bc4-4951-aaa3-7e84fba450ab",
   "metadata": {},
   "outputs": [
    {
     "name": "stdin",
     "output_type": "stream",
     "text": [
      "enter first name Spoorthi\n",
      "enter second name Thommandru\n"
     ]
    },
    {
     "name": "stdout",
     "output_type": "stream",
     "text": [
      "your full name: SpoorthiThommandru\n"
     ]
    }
   ],
   "source": [
    "a = input(\"enter first name\")\n",
    "b = input(\"enter second name\")\n",
    "c=a+b\n",
    "print(\"your full name:\",c)"
   ]
  },
  {
   "cell_type": "code",
   "execution_count": 6,
   "id": "a1d610ab-3504-49ad-ac9e-d55974df740d",
   "metadata": {},
   "outputs": [
    {
     "name": "stdin",
     "output_type": "stream",
     "text": [
      "Enter the first number: 10\n",
      "Enter the second number: 20\n"
     ]
    },
    {
     "name": "stdout",
     "output_type": "stream",
     "text": [
      "num1: 20\n",
      "num2: 10\n"
     ]
    }
   ],
   "source": [
    "num1=int(input(\"Enter the first number:\"))\n",
    "num2=int(input(\"Enter the second number:\"))\n",
    "num1=num1+num2\n",
    "num2=num1-num2\n",
    "num1=num1-num2\n",
    "print(\"num1:\",num1)\n",
    "print(\"num2:\",num2)"
   ]
  },
  {
   "cell_type": "code",
   "execution_count": 7,
   "id": "a9cec48f-0a48-4d44-84a4-362b91921ff3",
   "metadata": {},
   "outputs": [
    {
     "name": "stdout",
     "output_type": "stream",
     "text": [
      "after swaping: 20\n",
      "after swaping: 10\n"
     ]
    }
   ],
   "source": [
    "a=10\n",
    "b=20\n",
    "temp=a\n",
    "a=b\n",
    "b=temp\n",
    "print(\"after swaping:\",a)\n",
    "print(\"after swaping:\",b)"
   ]
  },
  {
   "cell_type": "code",
   "execution_count": 8,
   "id": "7749dc19-d6d0-4228-809a-0ca078e896d5",
   "metadata": {},
   "outputs": [
    {
     "name": "stdout",
     "output_type": "stream",
     "text": [
      "Integer is: 10\n",
      "float is: 1.4\n",
      "boolean is: True\n"
     ]
    }
   ],
   "source": [
    "a=10\n",
    "b=1.4\n",
    "c=True\n",
    "print(\"Integer is:\",a)\n",
    "print(\"float is:\",b)\n",
    "print(\"boolean is:\",c)"
   ]
  },
  {
   "cell_type": "code",
   "execution_count": 16,
   "id": "78b66878-0bdd-4575-b168-6deec7878eb6",
   "metadata": {},
   "outputs": [
    {
     "name": "stdout",
     "output_type": "stream",
     "text": [
      "tuple is: (1, 2, 3, 4)\n",
      "list is: [10, 10, 20, 30, 40]\n",
      "set is: {40, 10, 20, 30}\n",
      "dictinary is: {'one': 1, 'two': 2}\n"
     ]
    }
   ],
   "source": [
    "a=(1,2,3,4)\n",
    "b=[10,10,20,30,40]\n",
    "c={10,20,30,40}\n",
    "dict={\"one\":1,\"two\":2}\n",
    "print( \"tuple is:\",a)\n",
    "print(\"list is:\",b)\n",
    "print( \"set is:\",c)\n",
    "print( \"dictinary is:\",dict)"
   ]
  },
  {
   "cell_type": "code",
   "execution_count": 11,
   "id": "dadcb76f-2ba1-4185-8b70-ad74ff34609e",
   "metadata": {},
   "outputs": [
    {
     "name": "stdin",
     "output_type": "stream",
     "text": [
      "enter a number: 5\n"
     ]
    },
    {
     "name": "stdout",
     "output_type": "stream",
     "text": [
      "square of the number is: 25\n"
     ]
    }
   ],
   "source": [
    "a=int(input(\"enter a number:\"))\n",
    "square=a**2\n",
    "print(\"square of the number is:\",square)"
   ]
  },
  {
   "cell_type": "code",
   "execution_count": 12,
   "id": "ede7e624-9464-4231-8708-98317961f08b",
   "metadata": {},
   "outputs": [
    {
     "name": "stdin",
     "output_type": "stream",
     "text": [
      "Enter the first number: 2\n",
      "Enter the second number: 3\n",
      "Enter the third number: 4\n"
     ]
    },
    {
     "name": "stdout",
     "output_type": "stream",
     "text": [
      "average: 3.0\n"
     ]
    }
   ],
   "source": [
    "num1=int(input(\"Enter the first number:\"))\n",
    "num2=int(input(\"Enter the second number:\"))\n",
    "num3=int(input(\"Enter the third number:\"))\n",
    "sum=num1+num2+num3\n",
    "avg=sum/3\n",
    "print(\"average:\",avg)"
   ]
  },
  {
   "cell_type": "code",
   "execution_count": 14,
   "id": "df40e9b6-1294-4dd3-8e6e-71aa496658ad",
   "metadata": {},
   "outputs": [
    {
     "name": "stdin",
     "output_type": "stream",
     "text": [
      "Enter the first number: 2\n",
      "Enter the second number: 10\n"
     ]
    },
    {
     "name": "stdout",
     "output_type": "stream",
     "text": [
      "20\n"
     ]
    }
   ],
   "source": [
    "num1=int(input(\"Enter the first number:\"))\n",
    "num2=int(input(\"Enter the second number:\"))\n",
    "c=num1*num2\n",
    "print(c)"
   ]
  },
  {
   "cell_type": "code",
   "execution_count": 24,
   "id": "f16cc7e4-e7ac-4ba8-9e46-fb16ec6e254d",
   "metadata": {},
   "outputs": [
    {
     "name": "stdin",
     "output_type": "stream",
     "text": [
      "Enter the minutes: 20\n"
     ]
    },
    {
     "name": "stdout",
     "output_type": "stream",
     "text": [
      "1200\n"
     ]
    }
   ],
   "source": [
    "#convert minutes into seconds\n",
    "mins=int(input(\"Enter the minutes:\"))\n",
    "b=60\n",
    "c=mins*b\n",
    "print(c)"
   ]
  },
  {
   "cell_type": "code",
   "execution_count": 17,
   "id": "be6d5452-5bd7-4631-9bcb-aec06d76a5e2",
   "metadata": {},
   "outputs": [
    {
     "name": "stdin",
     "output_type": "stream",
     "text": [
      "Enter the first number: 2.5\n",
      "Enter the second number: 2.5\n"
     ]
    },
    {
     "name": "stdout",
     "output_type": "stream",
     "text": [
      "6.25\n"
     ]
    }
   ],
   "source": [
    "#multip[lication of 2 float numbers\n",
    "num1=float(input(\"Enter the first number:\"))\n",
    "num2=float(input(\"Enter the second number:\"))\n",
    "c=num1*num2\n",
    "print(c)\n"
   ]
  },
  {
   "cell_type": "code",
   "execution_count": 18,
   "id": "5ea104f0-f721-4f83-b05d-de269303a267",
   "metadata": {},
   "outputs": [
    {
     "name": "stdin",
     "output_type": "stream",
     "text": [
      "Enter the first number: 14\n",
      "Enter the second number: 9\n",
      "Enter the third number: 11\n"
     ]
    },
    {
     "name": "stdout",
     "output_type": "stream",
     "text": [
      "14\n"
     ]
    }
   ],
   "source": [
    "#largest of 3 numbers without if else\n",
    "num1=int(input(\"Enter the first number:\"))\n",
    "num2=int(input(\"Enter the second number:\"))\n",
    "num3=int(input(\"Enter the third number:\"))\n",
    "print(max(num1,num2,num3))"
   ]
  },
  {
   "cell_type": "code",
   "execution_count": 20,
   "id": "18fe0b16-5695-4416-ad38-c84080da5cf2",
   "metadata": {},
   "outputs": [
    {
     "name": "stdin",
     "output_type": "stream",
     "text": [
      "Enter the first  n number: 100\n"
     ]
    },
    {
     "name": "stdout",
     "output_type": "stream",
     "text": [
      "sum of n natural numbers: 5050\n"
     ]
    }
   ],
   "source": [
    "#sum of n natural numbers\n",
    "num=int(input(\"Enter the first  n number:\"))\n",
    "sum=num*(num+1)//2\n",
    "print(\"sum of n natural numbers:\",sum)"
   ]
  },
  {
   "cell_type": "code",
   "execution_count": 26,
   "id": "508369f8-2c12-4a5d-8c14-a2d0ab515c67",
   "metadata": {},
   "outputs": [
    {
     "name": "stdin",
     "output_type": "stream",
     "text": [
      "Enter the first  n  odd number: 50\n"
     ]
    },
    {
     "name": "stdout",
     "output_type": "stream",
     "text": [
      "sum of n odd numbers: 2500\n"
     ]
    }
   ],
   "source": [
    "#sum of n odd numbers\n",
    "num=int(input(\"Enter the first  n  odd number:\"))\n",
    "sum=num**2\n",
    "print(\"sum of n odd numbers:\",sum)"
   ]
  },
  {
   "cell_type": "code",
   "execution_count": 27,
   "id": "99774892-0f92-4112-94a1-996fec491d9a",
   "metadata": {},
   "outputs": [
    {
     "name": "stdin",
     "output_type": "stream",
     "text": [
      "Enter the first  n  even number: 50\n"
     ]
    },
    {
     "name": "stdout",
     "output_type": "stream",
     "text": [
      "sum of n even numbers: 2550\n"
     ]
    }
   ],
   "source": [
    "#sum of first n even numbers\n",
    "num=int(input(\"Enter the first  n  even number:\"))\n",
    "sum=num*(num+1)\n",
    "print(\"sum of n even numbers:\",sum)"
   ]
  },
  {
   "cell_type": "code",
   "execution_count": 30,
   "id": "388f711e-7fbe-4336-a519-fedac5a238d0",
   "metadata": {},
   "outputs": [
    {
     "name": "stdin",
     "output_type": "stream",
     "text": [
      "enter your name: spoo\n"
     ]
    },
    {
     "name": "stdout",
     "output_type": "stream",
     "text": [
      "the documents required are PAN card,Aadhar card and Civil score more than 700\n"
     ]
    },
    {
     "name": "stdin",
     "output_type": "stream",
     "text": [
      "do you have Aadhar card(yes,no: yes\n",
      "do you have PAN card(yes,no: yes\n",
      "enter your civil score: 765\n"
     ]
    },
    {
     "name": "stdout",
     "output_type": "stream",
     "text": [
      "eligible\n"
     ]
    }
   ],
   "source": [
    "#applying for loan required document are aadhar,PAN,civil score more than 700 \n",
    "\n",
    "name = str(input(\"enter your name:\"))\n",
    "print(\"the documents required are PAN card,Aadhar card and Civil score more than 700\")\n",
    "a=str(input(\"do you have Aadhar card(yes,no:\"))\n",
    "b=str(input(\"do you have PAN card(yes,no:\"))\n",
    "c=int(input(\"enter your civil score:\"))\n",
    "if(a,b==\"yes\" and c>700):\n",
    "    print(\"eligible\")\n",
    "else:\n",
    "    print(\"not eligible\")\n"
   ]
  },
  {
   "cell_type": "code",
   "execution_count": 31,
   "id": "0bdbdd97-7ce1-4a4d-ae66-7aa1ec539d28",
   "metadata": {},
   "outputs": [
    {
     "name": "stdout",
     "output_type": "stream",
     "text": [
      "additions of two numbers: 30\n",
      "subtraction of two numbers: -10\n",
      "multipliction: 200\n",
      "division: 0.5\n"
     ]
    }
   ],
   "source": [
    "#Airthmetic operators\n",
    "a= 10\n",
    "b=20\n",
    "print(\"additions of two numbers:\",a+b)\n",
    "print(\"subtraction of two numbers:\",a-b)\n",
    "print(\"multipliction:\",a*b)\n",
    "print(\"division:\",a/b)"
   ]
  },
  {
   "cell_type": "code",
   "execution_count": 32,
   "id": "0254bc76-8444-467e-8f23-25e3b530c380",
   "metadata": {},
   "outputs": [
    {
     "name": "stdin",
     "output_type": "stream",
     "text": [
      "Enter the first number: -1\n"
     ]
    },
    {
     "name": "stdout",
     "output_type": "stream",
     "text": [
      "negative\n"
     ]
    }
   ],
   "source": [
    "#check wheather the number is positive,negative or zero\n",
    "num1=int(input(\"Enter the first number:\"))\n",
    "if(num1>0):\n",
    "    print(\"positive\")\n",
    "if(num1<0):\n",
    "    print(\"negative\")\n",
    "if(num1==0):\n",
    "    print(\"zero\")"
   ]
  },
  {
   "cell_type": "code",
   "execution_count": 33,
   "id": "b9104989-eeae-47a1-9edd-274d7a23d883",
   "metadata": {},
   "outputs": [
    {
     "name": "stdin",
     "output_type": "stream",
     "text": [
      "Enter the number: 3\n"
     ]
    },
    {
     "name": "stdout",
     "output_type": "stream",
     "text": [
      "odd number\n"
     ]
    }
   ],
   "source": [
    "#find even or odd number\n",
    "num=int(input(\"Enter the number:\"))\n",
    "if(num%2==0):\n",
    "    print(\"even number\")\n",
    "else:\n",
    "    print(\"odd number\")"
   ]
  },
  {
   "cell_type": "code",
   "execution_count": 34,
   "id": "ed8d56e6-846c-407f-ba14-526655378fbb",
   "metadata": {},
   "outputs": [
    {
     "name": "stdin",
     "output_type": "stream",
     "text": [
      "Enter the number: 55\n"
     ]
    },
    {
     "name": "stdout",
     "output_type": "stream",
     "text": [
      "THE NUMBER is divisible by 5 and 11\n"
     ]
    }
   ],
   "source": [
    "#check if the number is divisible by 5 and 11\n",
    "num=int(input(\"Enter the number:\"))\n",
    "if(num%5==0 and num%11==0):\n",
    "    print(\"THE NUMBER is divisible by 5 and 11\")\n",
    "else:\n",
    "    print(\"THE NUMBER is  not divisible by 5 and 11\")\n"
   ]
  },
  {
   "cell_type": "code",
   "execution_count": 37,
   "id": "d13c3f9f-2b7c-4201-a0eb-f5d6567b3a7d",
   "metadata": {},
   "outputs": [
    {
     "name": "stdin",
     "output_type": "stream",
     "text": [
      "enter the age: 18\n"
     ]
    },
    {
     "name": "stdout",
     "output_type": "stream",
     "text": [
      "teenager\n"
     ]
    }
   ],
   "source": [
    "#checking the age group\n",
    "age= int(input(\"enter the age:\"))\n",
    "if(age<=12):\n",
    "    print(\"kid\")\n",
    "elif(age<=19):\n",
    "    print(\"teenager\")\n",
    "else:\n",
    "    print(\"adult\")"
   ]
  },
  {
   "cell_type": "code",
   "execution_count": 50,
   "id": "f906217a-1ee6-4690-ab4e-82567c0d5b04",
   "metadata": {},
   "outputs": [
    {
     "name": "stdin",
     "output_type": "stream",
     "text": [
      "enter the marks: 88\n"
     ]
    },
    {
     "name": "stdout",
     "output_type": "stream",
     "text": [
      "B grade\n"
     ]
    }
   ],
   "source": [
    "#grade of the student\n",
    "marks = int(input(\"enter the marks:\"))\n",
    "if(marks>=90 and marks<=100):\n",
    "    print(\"A Grade\")\n",
    "elif(marks>=70 and marks<=89):\n",
    "    print(\"B grade\")\n",
    "elif(marks>=50 and marks<=69):\n",
    "    print(\"C grade\")\n",
    "elif(marks>=40 and marks<=49):\n",
    "    print(\"D grade\")\n",
    "elif(marks>=0 and marks<40):\n",
    "    print(\"FAIL\")\n",
    "else:\n",
    "    print(\"error\")"
   ]
  },
  {
   "cell_type": "code",
   "execution_count": 52,
   "id": "c26d7d0f-bbdf-49ca-b3ef-4f5b2544690c",
   "metadata": {},
   "outputs": [
    {
     "name": "stdin",
     "output_type": "stream",
     "text": [
      "enter a number: 4\n"
     ]
    },
    {
     "name": "stdout",
     "output_type": "stream",
     "text": [
      "wednesday\n"
     ]
    }
   ],
   "source": [
    "#day in week\n",
    "day_no=int(input(\"enter a number:\"))\n",
    "if(day_no==1):\n",
    "    print(\"sunday\")\n",
    "elif(day_no==2):\n",
    "    print(\"monday\")\n",
    "elif(day_no==3):\n",
    "    print(\"Tuesday\")\n",
    "elif(day_no==4):\n",
    "    print(\"wednesday\")\n",
    "elif(day_no==5):\n",
    "    print(\"Thursday\")\n",
    "elif(day_no==6):\n",
    "    print(\"Friday\")\n",
    "elif(day_no==7):\n",
    "    print(\"saturday\")\n",
    "else:\n",
    "    print(\"error\")\n"
   ]
  },
  {
   "cell_type": "code",
   "execution_count": 54,
   "id": "fbd2fdd9-d3d7-480c-987c-9fc032652b53",
   "metadata": {},
   "outputs": [
    {
     "name": "stdin",
     "output_type": "stream",
     "text": [
      "enter the username: 1411\n",
      "enter the password: 1234\n"
     ]
    },
    {
     "name": "stdout",
     "output_type": "stream",
     "text": [
      "failed\n"
     ]
    }
   ],
   "source": [
    "#check username and password\n",
    "username=int(input(\"enter the username:\"))\n",
    "password=int(input(\"enter the password:\"))\n",
    "if(username==1234 and password==1234):\n",
    "    print(\"login successfull\")\n",
    "else:\n",
    "    print(\"failed\")"
   ]
  },
  {
   "cell_type": "code",
   "execution_count": null,
   "id": "e4f80afd-2e59-4721-b5c6-f5bd5fc3387e",
   "metadata": {},
   "outputs": [],
   "source": []
  }
 ],
 "metadata": {
  "kernelspec": {
   "display_name": "Python 3 (ipykernel)",
   "language": "python",
   "name": "python3"
  },
  "language_info": {
   "codemirror_mode": {
    "name": "ipython",
    "version": 3
   },
   "file_extension": ".py",
   "mimetype": "text/x-python",
   "name": "python",
   "nbconvert_exporter": "python",
   "pygments_lexer": "ipython3",
   "version": "3.12.4"
  }
 },
 "nbformat": 4,
 "nbformat_minor": 5
}
